{
 "cells": [
  {
   "cell_type": "code",
   "execution_count": null,
   "metadata": {},
   "outputs": [],
   "source": [
    "# %pip install tensorflow-datasets"
   ]
  },
  {
   "cell_type": "code",
   "execution_count": null,
   "metadata": {},
   "outputs": [],
   "source": [
    "import tensorflow as tf\n",
    "from tensorflow import keras\n",
    "from keras.callbacks import ReduceLROnPlateau"
   ]
  },
  {
   "cell_type": "code",
   "execution_count": null,
   "metadata": {},
   "outputs": [],
   "source": [
    "from utils import train_cache, val_ds, show_results, dataset_object\n",
    "from model import make_model"
   ]
  },
  {
   "cell_type": "code",
   "execution_count": null,
   "metadata": {},
   "outputs": [],
   "source": [
    "model = make_model(\n",
    "    lr_shape=(None, None, 3),\n",
    "    num_filters=16,\n",
    "    num_of_residual_blocks_a=8,\n",
    "    num_of_residual_blocks_b=2,\n",
    ")"
   ]
  },
  {
   "cell_type": "code",
   "execution_count": null,
   "metadata": {},
   "outputs": [],
   "source": [
    "# model = tf.keras.models.load_model(\"../models/edsr-12.keras\")"
   ]
  },
  {
   "cell_type": "code",
   "execution_count": null,
   "metadata": {},
   "outputs": [],
   "source": [
    "optim_edsr = keras.optimizers.Adam(5e-04, beta_1=0.5)\n",
    "tb_callback = keras.callbacks.TensorBoard(\"./logs\", update_freq=1, write_images=True)\n",
    "\n",
    "learning_rate_reduction = ReduceLROnPlateau(\n",
    "    monitor=\"val_loss\", factor=0.5, patience=10, min_lr=1e-8, verbose=1\n",
    ")\n",
    "\n",
    "# Compiling model with loss as mean absolute error(L1 Loss) and metric as psnr\n",
    "model.compile(optimizer=optim_edsr, loss=\"mae\", metrics=[\"accuracy\"])"
   ]
  },
  {
   "cell_type": "code",
   "execution_count": null,
   "metadata": {},
   "outputs": [],
   "source": [
    "train_ds_0 = dataset_object(train_cache, training=True, hr_crop_size=32)\n",
    "train_ds_1 = dataset_object(train_cache, training=True, hr_crop_size=64)\n",
    "train_ds_2 = dataset_object(train_cache, training=True, hr_crop_size=128)\n",
    "train_ds_3 = dataset_object(train_cache, training=True, hr_crop_size=256)\n",
    "\n",
    "train_ds = [train_ds_0, train_ds_1, train_ds_2, train_ds_3]\n",
    "train_epochs = [50, 50, 25, 10]"
   ]
  },
  {
   "cell_type": "code",
   "execution_count": null,
   "metadata": {},
   "outputs": [],
   "source": [
    "# Training for more epochs will improve results\n",
    "show_results(model, num_images=3, size=256)\n",
    "\n",
    "for dataset, te in zip(train_ds, train_epochs):\n",
    "    print(f\"==================== Training ds changed for epochs ====================\")\n",
    "    model.fit(\n",
    "        dataset,\n",
    "        epochs=te,\n",
    "        steps_per_epoch=512,\n",
    "        validation_data=val_ds,\n",
    "        callbacks=[tb_callback, learning_rate_reduction],\n",
    "    )\n",
    "\n",
    "    show_results(model, num_images=3, size=256)"
   ]
  },
  {
   "cell_type": "code",
   "execution_count": null,
   "metadata": {},
   "outputs": [],
   "source": [
    "tf.keras.Model.save(model, \"../models/edsr-13.keras\")"
   ]
  },
  {
   "cell_type": "code",
   "execution_count": null,
   "metadata": {},
   "outputs": [],
   "source": [
    "model.save_weights(\"../models/edsr-13.weights.h5\")"
   ]
  }
 ],
 "metadata": {
  "kernelspec": {
   "display_name": "Python 3",
   "language": "python",
   "name": "python3"
  },
  "language_info": {
   "codemirror_mode": {
    "name": "ipython",
    "version": 3
   },
   "file_extension": ".py",
   "mimetype": "text/x-python",
   "name": "python",
   "nbconvert_exporter": "python",
   "pygments_lexer": "ipython3",
   "version": "3.10.13"
  }
 },
 "nbformat": 4,
 "nbformat_minor": 2
}
